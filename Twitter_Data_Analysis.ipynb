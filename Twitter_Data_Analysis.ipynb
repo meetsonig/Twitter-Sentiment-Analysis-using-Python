{
 "cells": [
  {
   "cell_type": "code",
   "execution_count": 1,
   "metadata": {},
   "outputs": [],
   "source": [
    "import tweepy\n",
    "from textblob import TextBlob\n",
    "import pandas as pd\n",
    "import re\n",
    "import nltk\n",
    "from nltk.corpus import wordnet\n",
    "from nltk.corpus import stopwords\n",
    "from nltk.stem import PorterStemmer \n",
    "from nltk.tokenize import word_tokenize "
   ]
  },
  {
   "cell_type": "code",
   "execution_count": 2,
   "metadata": {},
   "outputs": [],
   "source": [
    "TWITTER_APP_KEY='W91If2D8YW1Jdxok4nsGu2BsT'\n",
    "TWITTER_APP_SECRET='7WgSkCrrjjlEwDQ7Ub5REy3wZ8eEnadLzQw2ocnEvhcWPuIpqM'\n",
    "TWITTER_KEY='974719067566243840-n29UI0cLSqYr61LkRVlP4YzTX5FXAXE'\n",
    "TWITTER_SECRET='RwN6LeLBMjJmaAlloTjxA1Ji64LZ2LqFfHfYcDAHDwRMu'"
   ]
  },
  {
   "cell_type": "code",
   "execution_count": 4,
   "metadata": {},
   "outputs": [],
   "source": [
    "auth = tweepy.OAuthHandler(TWITTER_APP_KEY, TWITTER_APP_SECRET)\n",
    "auth.set_access_token(TWITTER_KEY, TWITTER_SECRET)"
   ]
  },
  {
   "cell_type": "code",
   "execution_count": 5,
   "metadata": {},
   "outputs": [],
   "source": [
    "api = tweepy.API(auth)"
   ]
  },
  {
   "cell_type": "code",
   "execution_count": 6,
   "metadata": {},
   "outputs": [],
   "source": [
    "#-----CREATING CSV FILE\n",
    "import csv\n",
    "\n",
    "# Open/create a file to append data to it\n",
    "csvFile = open('result.csv', 'a', newline='',encoding=\"utf-8\")\n",
    "\n",
    "#Use csv writer\n",
    "csvWriter = csv.writer(csvFile)\n",
    "#print(len(list(csv.reader(open('result.csv','r+',encoding=\"utf-8\")))))\n",
    "#FOR CREATING HEADING\n",
    "if (len(list(csv.reader(open('result.csv','r+',encoding=\"utf-8\"))))==0):\n",
    "    csvWriter.writerow([\"S.no.\",\"text\",\"username\",\"posted tweet count\",\"favorite_count\",\"retweet_count\",\"time\",\"clean text\",\"sentiment polarity\"])\n",
    "   "
   ]
  },
  {
   "cell_type": "code",
   "execution_count": 7,
   "metadata": {},
   "outputs": [
    {
     "data": {
      "text/plain": [
       "1955"
      ]
     },
     "execution_count": 7,
     "metadata": {},
     "output_type": "execute_result"
    }
   ],
   "source": [
    "(len(list(csv.reader(open('result.csv','r+',encoding=\"utf-8\")))))+1"
   ]
  },
  {
   "cell_type": "code",
   "execution_count": 8,
   "metadata": {},
   "outputs": [
    {
     "name": "stdout",
     "output_type": "stream",
     "text": [
      "texther onli prospect wa myrtl crow wa seventi year old life myrtl wa capabl cook like gossip zachgo gloria rock hor p kindl edit amazon ebok kindl\n",
      "sent Positive\n"
     ]
    }
   ],
   "source": [
    "#---- Data preprocessing/ cleaning steps\n",
    "# ---function to replace elongated words-----\n",
    "def replaceElongated(word):\n",
    "    \"\"\" Replaces an elongated word with its basic form, unless the word exists in the lexicon \"\"\"\n",
    "\n",
    "    repeat_regexp = re.compile(r'(\\w*)(\\w)\\2(\\w*)')\n",
    "    repl = r'\\1\\2\\3'\n",
    "    if wordnet.synsets(word):\n",
    "        return word\n",
    "    repl_word = repeat_regexp.sub(repl, word)\n",
    "    if repl_word != word:      \n",
    "        return replaceElongated(repl_word)\n",
    "    else:       \n",
    "        return repl_word\n",
    "#text='@rit textGuess who’s bored awessoommee at the holiday table again? #sadddd textMight just fw Bayou Classic :) I can’t be at home boredTaking requests as well. https://t.co/m3YEbeWy8S  123b'\n",
    "text='textHer only other prospect was Myrtle Crow, who was seventy years old and bored with her life. Myrtle was a capable cook, but she liked to gossip\\r\\n\\r\\nZachgo, Gloria . The Rocking Horse (p. 59).  . Kindle Edition. https://t.co/cxJJy4y9ZH #Amazon #ebook #kindledeals https://t.co/kQomOG9OF2'\n",
    "\n",
    "def preprocess(text):\n",
    "    # remove hyperlinks\n",
    "    text = re.sub('((www\\.[^\\s]+)|(https?://[^\\s]+))','',text)\n",
    "    text = re.sub(r'#([^\\s]+)', r'\\1', text)\n",
    "    \n",
    "    # \"\"\" Removes hastag in front of a word \"\"\"\n",
    "    text = re.sub(r'#([^\\s]+)', r'\\1', text)\n",
    "    \n",
    "    #remove mentions @\n",
    "    text = re.sub('@[^\\s]+','',text)\n",
    "    #make everything lowercase;\n",
    "    text=(text.lower())\n",
    "    \n",
    "    #(3) remove numbers\n",
    "    text = ''.join([i for i in text if not i.isdigit()])\n",
    "    \n",
    "    #---remove special characters\n",
    "    text=re.sub('[^A-Za-z]+', ' ', text)\n",
    "    tokens = nltk.word_tokenize(text)\n",
    "    onlyOneSentenceTokens = []\n",
    "    ps = PorterStemmer()\n",
    "    for w in tokens:\n",
    "        final_word=ps.stem(w)\n",
    "        final_word = replaceElongated(final_word)\n",
    "        onlyOneSentenceTokens.append(final_word)\n",
    "    onlyOneSentence = \" \".join(onlyOneSentenceTokens)\n",
    "    return onlyOneSentence\n",
    "    #return text\n",
    "\n",
    "def emoti_stopwords_stemming(text):\n",
    "    #--remove emoticons \n",
    "    text = re.sub(':\\)|;\\)|:-\\)|\\(-:|:-D|=D|:P|xD|X-p|\\^\\^|:-*|\\^\\.\\^|\\^\\-\\^|\\^\\_\\^|\\,-\\)|\\)-:|:\\'\\(|:\\(|:-\\(|:\\S|T\\.T|\\.\\_\\.|:<|:-\\S|:-<|\\*\\-\\*|:O|=O|=\\-O|O\\.o|XO|O\\_O|:-\\@|=/|:/|X\\-\\(|>\\.<|>=\\(|D:', '', text)           \n",
    "    \n",
    "    #--remove stopwords and stemming\n",
    "    onlyOneSentenceTokens = []\n",
    "    tokens = nltk.word_tokenize(text)\n",
    "    stoplist = stopwords.words('english')\n",
    "    stoplist=stoplist + [\"bore\",\"boredom\",\"bored\"]\n",
    "    ps = PorterStemmer()\n",
    "    for w in tokens:\n",
    "        if (w not in stoplist):\n",
    "            final_word=ps.stem(w)\n",
    "            #final_word = replaceElongated(final_word)\n",
    "            onlyOneSentenceTokens.append(final_word)\n",
    "     #print(onlyOneSentenceTokens)\n",
    "    onlyOneSentence = \" \".join(onlyOneSentenceTokens)\n",
    "    return onlyOneSentence\n",
    "\n",
    "def senti(text):\n",
    "    blob = TextBlob(text)\n",
    "    Sentiment = blob.sentiment     \n",
    "    polarity = Sentiment.polarity\n",
    "    if polarity>0 and polarity<=1:\n",
    "        sent=\"Positive\"\n",
    "    elif polarity>=-1 and polarity<0:\n",
    "        sent=\"Negative\"\n",
    "    else:\n",
    "        sent=\"Neutral\"\n",
    "    return sent\n",
    "\n",
    "\n",
    "#subjectivity = Sentiment.subjectivity\n",
    "#print(sent)\n",
    "#print(text)\n",
    "text=preprocess(text)\n",
    "text=emoti_stopwords_stemming(text)\n",
    "print(text)\n",
    "\n",
    "print(\"sent \"+ senti(text))"
   ]
  },
  {
   "cell_type": "code",
   "execution_count": 9,
   "metadata": {},
   "outputs": [],
   "source": [
    "i=0\n",
    "class StreamListener(tweepy.StreamListener):\n",
    "    \n",
    "    def on_status(self, status):\n",
    "        #df_tweets=pd.DataFrame(columns=[\"user_description\",\"text\",\"retweet_count\",\"favorite_count\" ])\n",
    "        \n",
    "        #-----set this value 1 if want to turn on stemming, stopwords, and the removal of emojis and emoticons-----\n",
    "        #-----else set it to 0-----\n",
    "        val=\"1\"\n",
    "        #-----otherwise it will take input for every tweet---------------, uncomment it, enter 1 to turn on stemming--\n",
    "        #val=input(\"Enter your value: \") \n",
    "        if hasattr(status, \"retweeted_status\"):\n",
    "        #if status.retweeted_status:\n",
    "            return\n",
    "        else:\n",
    "            try:\n",
    "                text=(status.extended_tweet[\"full_text\"])\n",
    "                print(text)\n",
    "            except AttributeError:\n",
    "                text=(status.text)\n",
    "                print(text)\n",
    "                \n",
    "#[\"S.no.\",\"text\",\"username\",\"posted tweet count\",\"favorite_count\",\"retweet_count\",\"time\",\"clean text\",\"sentiment polarity\"]\n",
    "        i=(len(list(csv.reader(open('result.csv','r+',encoding=\"utf-8\")))))+1\n",
    "        print(\"S.no.\"+str(i))\n",
    "        print(\"username\"+status.user.screen_name)\n",
    "        print(\"posted tweet count\"+str(status.user.statuses_count))\n",
    "        print(\"favorite_count\"+str(status.user.favourites_count))\n",
    "        print(\"retweet_count\"+str(status.retweet_count))\n",
    "        print(\"Time\"+str(status.created_at))\n",
    "        \n",
    "        prepro_text=preprocess(text)\n",
    "        if (val==\"1\"):\n",
    "            prepro_text=emoti_stopwords_stemming(prepro_text) \n",
    "        \n",
    "        print(\"preproces: \"+prepro_text)\n",
    "        print(\"sent \"+ senti(prepro_text))\n",
    "        \n",
    "        '''df_tweets.loc[i,'user_description'] = status.user.description\n",
    "        #df_tweets.loc[i,'text'] = status.text\n",
    "        df_tweets.loc[i,'retweet_count'] = status.retweet_count\n",
    "        df_tweets.loc[i,'favorite_count']=status.favorite_count'''\n",
    "        #if (status.retweet_count>0):\n",
    "            #print(status.retweet_count)\n",
    "        #df_tweets=df_tweets.append({'user_description' : description , 'text' : text, 'retweet_count':retweets,'favorite_count':fav} , ignore_index=True)\n",
    "        #csv.write(\"description\" + \";\"+ \"text\" + \";\" +\" 'str(retweets)'\" + \";\" + \"'10'\"+ \"\\n\")\n",
    "        #csvWriter.writerow([status.user.description,text,status.retweet_count,status.favorite_count])\n",
    "        csvWriter.writerow([i,text,status.user.screen_name,status.user.statuses_count,status.user.favourites_count,status.retweet_count,\n",
    "                           status.created_at,prepro_text,senti(prepro_text)])\n",
    "    def on_error(self, status_code):\n",
    "        if status_code == 420:\n",
    "            return False"
   ]
  },
  {
   "cell_type": "markdown",
   "metadata": {},
   "source": [
    "# EXtracting tweets----\n",
    "<h2> interrupt the kernel to stop writing it to csv</h2>"
   ]
  },
  {
   "cell_type": "code",
   "execution_count": null,
   "metadata": {
    "scrolled": true
   },
   "outputs": [],
   "source": [
    "def start_stream():\n",
    "    while True:\n",
    "        try:\n",
    "            stream_listener = StreamListener()\n",
    "            stream = tweepy.Stream(auth=api.auth, listener=stream_listener,tweet_mode='extended')\n",
    "            #----here you can give the keywords-----\n",
    "            stream.filter(track=[\"bored\", \"boredom\"])\n",
    "        except: \n",
    "            continue\n",
    "\n",
    "start_stream()\n"
   ]
  },
  {
   "cell_type": "code",
   "execution_count": 2,
   "metadata": {},
   "outputs": [],
   "source": [
    "csvFile.close()"
   ]
  },
  {
   "cell_type": "markdown",
   "metadata": {},
   "source": [
    "# The most frequently occurring terms in the entire body of tweets"
   ]
  },
  {
   "cell_type": "code",
   "execution_count": 4,
   "metadata": {},
   "outputs": [],
   "source": [
    "import pandas as pd\n",
    "import re\n",
    "import nltk"
   ]
  },
  {
   "cell_type": "code",
   "execution_count": 5,
   "metadata": {
    "scrolled": true
   },
   "outputs": [],
   "source": [
    "#reading the file\n",
    "df_tweets=pd.read_csv(\"result.csv\")\n",
    "#---removing the rows having empty value for clean text column\n",
    "df_tweets=df_tweets.loc[df_tweets['clean text'].notnull(),]\n",
    "df_text=pd.DataFrame(df_tweets['clean text'])"
   ]
  },
  {
   "cell_type": "code",
   "execution_count": 6,
   "metadata": {
    "scrolled": true
   },
   "outputs": [
    {
     "data": {
      "text/plain": [
       "1880"
      ]
     },
     "execution_count": 6,
     "metadata": {},
     "output_type": "execute_result"
    }
   ],
   "source": [
    "len(df_tweets.loc[df_tweets['clean text'].notnull(),])"
   ]
  },
  {
   "cell_type": "code",
   "execution_count": 7,
   "metadata": {},
   "outputs": [
    {
     "data": {
      "text/plain": [
       "[['got', 'ta', 'stick', 'hand'], ['think', 'u', 'feel']]"
      ]
     },
     "execution_count": 7,
     "metadata": {},
     "output_type": "execute_result"
    }
   ],
   "source": [
    "words_in_tweet = [tweet.split() for tweet in df_tweets['clean text'] ]\n",
    "words_in_tweet[:2]"
   ]
  },
  {
   "cell_type": "code",
   "execution_count": 8,
   "metadata": {},
   "outputs": [
    {
     "data": {
      "text/plain": [
       "0                 got ta stick hand\n",
       "1                      think u feel\n",
       "2    talk anyon need entertain life\n",
       "3             bruh plea drop someth\n",
       "4          nah may end get take nap\n",
       "Name: clean text, dtype: object"
      ]
     },
     "execution_count": 8,
     "metadata": {},
     "output_type": "execute_result"
    }
   ],
   "source": [
    "df_text['clean text'].head()"
   ]
  },
  {
   "cell_type": "code",
   "execution_count": 9,
   "metadata": {},
   "outputs": [],
   "source": [
    "import itertools\n",
    "import collections\n",
    "import matplotlib.pyplot as plt\n",
    "import seaborn as sns\n",
    "import networkx as nx"
   ]
  },
  {
   "cell_type": "code",
   "execution_count": 10,
   "metadata": {
    "scrolled": true
   },
   "outputs": [
    {
     "data": {
      "text/html": [
       "<div>\n",
       "<style scoped>\n",
       "    .dataframe tbody tr th:only-of-type {\n",
       "        vertical-align: middle;\n",
       "    }\n",
       "\n",
       "    .dataframe tbody tr th {\n",
       "        vertical-align: top;\n",
       "    }\n",
       "\n",
       "    .dataframe thead th {\n",
       "        text-align: right;\n",
       "    }\n",
       "</style>\n",
       "<table border=\"1\" class=\"dataframe\">\n",
       "  <thead>\n",
       "    <tr style=\"text-align: right;\">\n",
       "      <th></th>\n",
       "      <th>words</th>\n",
       "      <th>count</th>\n",
       "    </tr>\n",
       "  </thead>\n",
       "  <tbody>\n",
       "    <tr>\n",
       "      <th>0</th>\n",
       "      <td>thi</td>\n",
       "      <td>269</td>\n",
       "    </tr>\n",
       "    <tr>\n",
       "      <th>1</th>\n",
       "      <td>get</td>\n",
       "      <td>226</td>\n",
       "    </tr>\n",
       "    <tr>\n",
       "      <th>2</th>\n",
       "      <td>im</td>\n",
       "      <td>164</td>\n",
       "    </tr>\n",
       "    <tr>\n",
       "      <th>3</th>\n",
       "      <td>wa</td>\n",
       "      <td>153</td>\n",
       "    </tr>\n",
       "    <tr>\n",
       "      <th>4</th>\n",
       "      <td>like</td>\n",
       "      <td>151</td>\n",
       "    </tr>\n",
       "  </tbody>\n",
       "</table>\n",
       "</div>"
      ],
      "text/plain": [
       "  words  count\n",
       "0   thi    269\n",
       "1   get    226\n",
       "2    im    164\n",
       "3    wa    153\n",
       "4  like    151"
      ]
     },
     "execution_count": 10,
     "metadata": {},
     "output_type": "execute_result"
    }
   ],
   "source": [
    "# List of all words across tweets\n",
    "all_words_no_urls = list(itertools.chain(*words_in_tweet))\n",
    "\n",
    "# Create counter\n",
    "counts_no_urls = collections.Counter(all_words_no_urls)\n",
    "\n",
    "counts_no_urls.most_common(15)\n",
    "clean_tweets_no_urls = pd.DataFrame(counts_no_urls.most_common(15),\n",
    "                             columns=['words', 'count'])\n",
    "\n",
    "clean_tweets_no_urls.head()"
   ]
  },
  {
   "cell_type": "code",
   "execution_count": 11,
   "metadata": {},
   "outputs": [
    {
     "data": {
      "image/png": "[encoded data removed]",
      "text/plain": [
       "<Figure size 576x576 with 1 Axes>"
      ]
     },
     "metadata": {
      "needs_background": "light"
     },
     "output_type": "display_data"
    }
   ],
   "source": [
    " fig, ax = plt.subplots(figsize=(8, 8))\n",
    "\n",
    "# Plot horizontal bar graph\n",
    "clean_tweets_no_urls.sort_values(by='count').plot.barh(x='words',\n",
    "                      y='count',\n",
    "                      ax=ax,\n",
    "                      color=\"purple\")\n",
    "\n",
    "ax.set_title(\"Common Words Found in Tweets (Including All Words)\")\n",
    "\n",
    "plt.show()"
   ]
  },
  {
   "cell_type": "markdown",
   "metadata": {},
   "source": [
    "# Bigrams"
   ]
  },
  {
   "cell_type": "code",
   "execution_count": 12,
   "metadata": {},
   "outputs": [
    {
     "data": {
      "text/plain": [
       "[(('wan', 'na'), 40),\n",
       " (('gon', 'na'), 25),\n",
       " (('like', 'thi'), 20),\n",
       " (('never', 'get'), 16),\n",
       " (('hou', 'hou'), 12),\n",
       " (('thi', 'wa'), 10),\n",
       " (('best', 'friend'), 8),\n",
       " (('dreamfixedunit', 'dreamfixedunit'), 8),\n",
       " (('anyon', 'wan'), 8),\n",
       " (('get', 'thi'), 8),\n",
       " (('l', 'get'), 7),\n",
       " (('na', 'play'), 7),\n",
       " (('becau', 'wa'), 7),\n",
       " (('got', 'ta'), 6),\n",
       " (('play', 'game'), 6),\n",
       " (('year', 'old'), 6),\n",
       " (('doe', 'anyon'), 6),\n",
       " (('na', 'na'), 6),\n",
       " (('stay', 'home'), 6),\n",
       " (('got', 'new'), 6)]"
      ]
     },
     "execution_count": 12,
     "metadata": {},
     "output_type": "execute_result"
    }
   ],
   "source": [
    "#now creating bi-grams\n",
    "terms_stop = [term.split() for term in (df_tweets['clean text']) ]\n",
    "# Create list of lists containing bigrams in tweets\n",
    "from nltk import bigrams\n",
    "terms_bigram = [list(bigrams(tweet)) for tweet in terms_stop]\n",
    "bigrams = list(itertools.chain(*terms_bigram))\n",
    "\n",
    "# Create counter of words in clean bigrams\n",
    "bigram_counts = collections.Counter(bigrams)\n",
    "\n",
    "bigram_counts.most_common(20)"
   ]
  },
  {
   "cell_type": "code",
   "execution_count": 13,
   "metadata": {},
   "outputs": [
    {
     "data": {
      "image/png": "[encoded data removed]",
      "text/plain": [
       "<Figure size 720x576 with 1 Axes>"
      ]
     },
     "metadata": {},
     "output_type": "display_data"
    }
   ],
   "source": [
    "bigram_df = pd.DataFrame(bigram_counts.most_common(20),\n",
    "                             columns=['bigram', 'count'])\n",
    "\n",
    "bigram_df\n",
    "# Create dictionary of bigrams and their counts\n",
    "d = bigram_df.set_index('bigram').T.to_dict('records')\n",
    "# Create network plot \n",
    "G = nx.Graph()\n",
    "\n",
    "# Create connections between nodes\n",
    "for k, v in d[0].items():\n",
    "    G.add_edge(k[0], k[1], weight=(v * 10))\n",
    "\n",
    "G.add_node(\"china\", weight=100)\n",
    "fig, ax = plt.subplots(figsize=(10, 8))\n",
    "\n",
    "pos = nx.spring_layout(G, k=1)\n",
    "\n",
    "# Plot networks\n",
    "nx.draw_networkx(G, pos,\n",
    "                 font_size=16,\n",
    "                 width=3,\n",
    "                 edge_color='grey',\n",
    "                 node_color='purple',\n",
    "                 with_labels = False,\n",
    "                 ax=ax)\n",
    "\n",
    "# Create offset labels\n",
    "for key, value in pos.items():\n",
    "    x, y = value[0]+.135, value[1]+.045\n",
    "    ax.text(x, y,\n",
    "            s=key,\n",
    "            bbox=dict(facecolor='red', alpha=0.25),\n",
    "            horizontalalignment='center', fontsize=13)\n",
    "    \n",
    "plt.show()"
   ]
  },
  {
   "cell_type": "markdown",
   "metadata": {},
   "source": [
    "# the most frequent n-grams (cooccurrences of words)"
   ]
  },
  {
   "cell_type": "code",
   "execution_count": 14,
   "metadata": {},
   "outputs": [
    {
     "name": "stdout",
     "output_type": "stream",
     "text": [
      "[(('af', 'im'), 140), (('fuck', 'im'), 120), (('im', 'reali'), 120), (('asf', 'im'), 100), (('im', 'thi'), 100)]\n"
     ]
    }
   ],
   "source": [
    "from collections import defaultdict\n",
    "# remember to include the other import from the previous post\n",
    " \n",
    "com = defaultdict(lambda : defaultdict(int))\n",
    " \n",
    "# f is the file pointer to the JSON data set\n",
    "terms_only = [term for term in df_tweets['clean text']]\n",
    " \n",
    "    # Build co-occurrence matrix\n",
    "for i in range(len(terms_only)-1):            \n",
    "    for j in range(i+1, len(terms_only)):\n",
    "        w1, w2 = sorted([terms_only[i], terms_only[j]])                \n",
    "        if w1 != w2:\n",
    "            com[w1][w2] += 1\n",
    "\n",
    "import operator\n",
    "com_max = []\n",
    "# For each term, look for the most common co-occurrent terms\n",
    "for t1 in com:\n",
    "    t1_max_terms = sorted(com[t1].items(), key=operator.itemgetter(1), reverse=True)[:5]\n",
    "    for t2, t2_count in t1_max_terms:\n",
    "        com_max.append(((t1, t2), t2_count))\n",
    "# Get the most frequent co-occurrences\n",
    "terms_max = sorted(com_max, key=operator.itemgetter(1), reverse=True)\n",
    "print(terms_max[:5])"
   ]
  },
  {
   "cell_type": "markdown",
   "metadata": {},
   "source": [
    "# Word Embedding"
   ]
  },
  {
   "cell_type": "code",
   "execution_count": 15,
   "metadata": {},
   "outputs": [
    {
     "name": "stdout",
     "output_type": "stream",
     "text": [
      "Word2Vec(vocab=4079, size=100, alpha=0.025)\n",
      "['got', 'ta', 'stick', 'hand', 'think', 'u', 'feel', 'talk', 'anyon', 'need', 'entertain', 'life', 'bruh', 'plea', 'drop', 'someth', 'nah', 'may', 'end', 'get', 'take', 'nap', 'fan', 'want', 'see', 'long', 'green', 'flag', 'probabl', 'girl', 'wake', 'im', 'chivet', 'work', 'photo', 'start', 'watch', 'jumanji', 'yeah', 'dad', 'state', 'go', 'say', 'board', 'game', 'origin', 'thi', 'remak', 'trash', 'call', 'boomer', 'natur', 'went', 'rage', 'fit', 'ha', 'room', 'hey', 'hollywood', 'gen', 'z', 'indierulesok', 'doe', 'someon', 'wan', 'na', 'mal', 'ditch', 'studi', 'play', 'pusi', 'right', 'kik', 'dirtybab', 'fetpic', 'dm', 'bc', 'sendnud', 'paypig', 'nsfw', 'humanatm', 'babe', 'fotfetish', 'worship', 'butt', 'nudestrad', 'findomgod', 'kink', 'spoilm', 'make', 'miss', 'wrong', 'peopl', 'total', 'england', 'qualifi', 'perform', 'badli', 'tournament', 'come', 'back', 'quarter', 'golden', 'gener', 'piss', 'easi', 'group', 'next', 'one', 'repeat', 'infin', 'also', 'kane', 'score', 'penalti', 'consum', 'pursuit', 'hapi', 'avoid', 'add', 'retreat', 'result', 'stress', 'discont', 'veri', 'smart', 'written', 'lol', 'hela', 'mindless', 'use', 'season', 'without', 'sudenli', 'spend', 'time', 'question', 'whi', 'happen', 'simpli', 'becau', 'refresh', 'wa', 'hour', 'pure', 'hazbin', 'hotel', 'hazbinhotelfanart', 'boredartist', 'somebodi', 'twitter', 'guy', 'skin', 'act', 'help', 'money', 'red', 'velvet', 'blackpink', 'oh', 'lord', 'news', 'p', 'sunday', 'ani', 'drama', 'fores', 'futur', 'thank', 'save', 'untold', 'befudl', 'spell', 'polic', 'storm', 'build', 'mind', 'would', 'hide', 'shit', 'lmao', 'yet', 'rp', 'bener', 'id', 'never', 'hi', 'voic', 'first', 'live', 'broadcast', 'protest', 'bit', 'expect', 'mani', 'action', 'lot', 'meat', 'day', 'like', 'anim', 'charact', 'love', 'pl', 'ye', 'annoy', 'arya', 'interest', 'storylin', 'tywin', 'sansa', 'left', 'cersei', 'tyrion', 'excit', 'thing', 'look', 'forward', 'reunit', 'bran', 'litl', 'lanist', 'interact', 'coincid', 'plz', 'sibl', 'grab', 'full', 'throw', 'bad', 'asf', 'topup', 'sejuta', 'kek', 'beli', 'kacang', 'fav', 'sinc', 'worthless', 'made', 'bitch', 'scoop', 'bean', 'dig', 'deep', 'ass', 'hole', 'tri', 'buri', 'spoon', 'thingi', 'pierc', 'chaleng', 'tik', 'tok', 'kind', 'brave', 'enough', 'tiktok', 'random', 'f', 'follow', 'nice', 'mean', 'abov', 'ash', 'man', 'consist', 'skill', 'felt', 'irit', 'better', 'ur', 'hell', 'bake', 'cake', 'tumbl', 'weed', 'roll', 'job', 'gc', 'liter', 'argu', 'stockroom', 'unorgan', 'mf', 'reali', 'bout', 'yay', 'clip', 'justin', 'reaction', 'everytim', 'fuck', 'alway', 'w', 'imo', 'xd', 'hello', 'send', 'anyth', 'john', 'deer', 'machin', 'myjob', 'ofic', 'compani', 'grind', 'mygrind', 'dayjob', 'ilovemyjob', 'dailygrind', 'photoftheday', 'busi', 'biz', 'workingl', 'comput', 'instajob', 'instalif', 'keep', 'noth', 'preach', 'differ', 'comfort', 'opinion', 'argument', 'even', 'desper', 'continu', 'defend', 'truth', 'told', 'el', 'well', 'cour', 'polit', 'ok', 'let', 'way', 'inspir', 'cafe', 'drink', 'ahah', 'parti', 'citi', 'buy', 'mask', 'calm', 'sili', 'equip', 'alreadi', 'l', 'ask', 'onc', 'though', 'grievanc', 'gentlemen', 'name', 'today', 'mackay', 'home', 'depot', 'wind', 'wash', 'crush', 'check', 'whisper', 'okay', 'jump', 'kinda', 'imesag', 'cri', 'hungri', 'idk', 'face', 'kid', 'minut', 'pancak', 'jacob', 'nctdreamfixedunit', 'min', 'gone', 'pair', 'window', 'wiper', 'sideway', 'fotbal', 'coder', 'height', 'cm', 'shoe', 'size', 'embarrass', 'zodiac', 'sign', 'virgo', 'tattoo', 'itl', 'soon', 'fave', 'color', 'dusti', 'pink', 'food', 'samyang', 'cabonara', 'tea', 'sori', 'type', 'ashol', 'walk', 'away', 'ladi', 'refu', 'eye', 'contact', 'person', 'ap', 'tinder', 'bumbl', 'seek', 'atent', 'instagram', 'brush', 'notic', 'respect', 'dick', 'quiet', 'unev', 'kosovo', 'match', 'exam', 'procrastin', 'sit', 'lost', 'alon', 'horni', 'snapchat', 'dirtyflirt', 'wori', 'aah', 'boy', 'sarcast', 'return', 'gave', 'team', 'surend', 'acu', 'us', 'cheat', 'boss', 'leo', 'yell', 'furiou', 'bu', 'station', 'th', 'consecut', 'month', 'saturday', 'decemb', 'success', 'banker', 'hapili', 'san', 'francisco', 'fianc', 'inexpl', 'amp', 'decid', 'seduc', 'best', 'friend', 'cute', 'everyon', 'seem', 'enjoy', 'still', 'gon', 'post', 'slate', 'video', 'know', 'dark', 'deaf', 'excel', 'swedish', 'version', 'jaemin', 'c', 'mon', 'edit', 'pictur', 'might', 'actual', 'km', 'homework', 'ya', 'year', 'old', 'ill', 'last', 'night', 'instead', 'stay', 'smh', 'yal', 'victim', 'sad', 'point', 'isnt', 'talent', 'hate', 'hype', 'listen', 'song', 'mv', 'uwow', 'rn', 'hv', 'chat', 'mayb', 'guess', 'appear', 'cato', 'solitud', 'idea', 'quir', 'much', 'apreci', 'break', 'ice', 'abl', 'defeat', 'faster', 'could', 'tell', 'witch', 'girlfriend', 'dreamfixedunit', 'koseng', 'subject', 'give', 'undisclo', 'settlement', 'amount', 'kaep', 'nonsen', 'black', 'claim', 'stanc', 'feat', 'clairo', 'wallow', 'woke', 'fell', 'tweet', 'yara', 'skip', 'dmc', 'straight', 'deci', 'whole', 'makeup', 'rev', 'fortnit', 'yh', 'done', 'champ', 'week', 'rt', 'tao', 'win', 'special', 'websit', 'flash', 'di', 'mo', 'siya', 'gusto', 'malungkot', 'ka', 'lang', 'pero', 'bf', 'episod', 'mandalorian', 'asleep', 'b', 'nd', 'mention', 'togeth', 'horibl', 'birthday', 'moi', 'namjon', 'demand', 'sigh', 'situat', 'jimin', 'couch', 'fuli', 'dress', 'slack', 'button', 'shirt', 'lace', 'feet', 'mouth', 'water', 'jlaw', 'low', 'lower', 'margot', 'level', 'apathi', 'brought', 'x', 'men', 'franchi', 'side', 'equat', 'milionair', 'believ', 'apar', 'angri', 'magic', 'movi', 'concept', 'flirtin', 'cau', 'free', 'nude', 'quit', 'plsea', 'dont', 'sadder', 'witcher', 'big', 'linear', 'reason', 'new', 'lose', 'pace', 'bing', 'player', 'pickpocket', 'sleep', 'g', 'sunni', 'snowi', 'morn', 'cofe', 'run', 'selfi', 'medal', 'hero', 'humbl', 'mere', 'mortal', 'worthi', 'ground', 'grace', 'purest', 'gold', 'regal', 'touch', 'mida', 'lip', 'sing', 'snap', 'atm', 'facetim', 'plu', 'custom', 'mesag', 'seriou', 'inquir', 'onli', 'fight', 'coma', 'enter', 'thread', 'ago', 'womem', 'ih', 'aku', 'digendong', 'sama', 'kakak', 'cantik', 'recommend', 'beibg', 'oper', 'word', 'optimist', 'said', 'theyr', 'hehehehehyd', 'ricki', 'val', 'babi', 'e', 'hard', 'find', 'anoth', 'hobi', 'danc', 'chilin', 'af', 'usernam', 'mathgo', 'admekik', 'admeonkik', 'kikm', 'kiku', 'kikcod', 'kikmeimbor', 'kikmenow', 'kikfriend', 'kikmeseng', 'xbox', 'gym', 'close', 'ima', 'jeni', 'breath', 'good', 'undiesdaili', 'hornygirl', 'shelbyvil', 'kentucki', 'definit', 'least', 'laugh', 'ridicul', 'especi', 'self', 'awar', 'hob', 'shaw', 'repetit', 'flat', 'bili', 'eilish', 'throwback', 'comeback', 'societi', 'usual', 'ko', 'gumaya', 'ng', 'float', 'balloon', 'haha', 'bottom', 'chang', 'cuz', 'sari', 'ghar', 'wali', 'shadi', 'pr', 'hain', 'main', 'ake', 'bethi', 'sharm', 'krlo', 'tm', 'dono', 'k', 'hoti', 'huay', 'hun', 'ban', 'intermit', 'seungwo', 'member', 'yi', 'demi', 'ariana', 'mau', 'jadi', 'kucingnya', 'aseuli', 'wait', 'teacher', 'put', 'son', 'privat', 'afford', 'bobcat', 'beast', 'instagod', 'realiz', 'discuss', 'date', 'violenc', 'consent', 'research', 'pornographi', 'lit', 'drpd', 'puse', 'menyusun', 'kalimat', 'tida', 'lebi', 'baik', 'anak', 'ini', 'essay', 'motivasi', 'sj', 'ngapain', 'ky', 'orang', 'entir', 'afterlif', 'flaw', 'heaven', 'mine', 'etern', 'experienc', 'final', 'experi', 'tonight', 'hook', 'maidtown', 'everyth', 'reliabl', 'contest', 'biggest', 'poop', 'bro', 'scream', 'militari', 'unl', 'kno', 'handl', 'ball', 'n', 'court', 'shawti', 'getin', 'sumtim', 'fina', 'asl', 'front', 'around', 'line', 'safe', 'fun', 'local', 'laid', 'bed', 'five', 'earli', 'anybodi', 'bring', 'anyhow', 'swear', 'selfiesforqu', 'ind', 'fok', 'walpap', 'paint', 'dri', 'dme', 'exactli', 'teamat', 'hindi', 'kase', 'bago', 'nagpapasaya', 'idiot', 'cari', 'blimey', 'must', 'beyond', 'scroll', 'brutal', 'botl', 'bathroom', 'chanel', 'premier', 'leagu', 'serial', 'mega', 'dose', 'premierleagu', 'init', 'mad', 'strike', 'sr', 'tu', 'kha', 'rahi', 'tumhara', 'lil', 'project', 'place', 'afternoon', 'pay', 'music', 'conver', 'randomli', 'wine', 'wall', 'tire', 'cranki', 'art', 'moment', 'dodl', 'till', 'draw', 'sketchbook', 'marker', 'adam', 'shop', 'chain', 'bracelet', 'fix', 'mep', 'blew', 'outa', 'number', 'beef', 'scare', 'onlin', 'easili', 'moli', 'tryna', 'fall', 'women', 'woman', 'train', 'methan', 'ga', 'environ', 'genuin', 'isu', 'nvr', 'nun', 'nobodi', 'ever', 'sum', 'favourit', 'ihavenofriendsmoveback', 'legit', 'freak', 'hope', 'repli', 'knock', 'kim', 'taehyung', 'childhood', 'pok', 'blow', 'stori', 'dialogu', 'move', 'beauti', 'lmfao', 'read', 'conspiraci', 'theori', 'hospit', 'turn', 'friday', 'sale', 'card', 'cousin', 'preti', 'sure', 'anymor', 'acc', 'ne', 'stuff', 'wish', 'cigaret', 'skulcandi', 'headphon', 'autumn', 'spring', 'hogwart', 'hou', 'view', 'brother', 'unfortun', 'mum', 'sick', 'vc', 'befor', 'lay', 'sweater', 'weather', 'far', 'gf', 'lulw', 'instadaili', 'drew', 'bozey', 'cheek', 'coronaviru', 'three', 'led', 'linkedin', 'cross', 'island', 'wreck', 'tf', 'steal', 'flower', 'real', 'toddler', 'round', 'clean', 'gaff', 'bought', 'rambo', 'knife', 'amazon', 'sheer', 'dbc', 'sir', 'math', 'tutor', 'ig', 'dominqu', 'hit', 'gi', 'ghost', 'ayaw', 'mog', 'promi', 'mubalik', 'rana', 'sila', 'pag', 'millisecond', 'finish', 'undergrad', 'fr', 'abt', 'owe', 'buck', 'hint', 'adictcraft', 'stream', 'plan', 'depress', 'louie', 'defo', 'cure', 'wild', 'convo', 'builder', 'cz', 'topic', 'thru', 'oiya', 'prefer', 'yg', 'thankyou', 'sun', 'goe', 'perfect', 'stayathom', 'tp', 'quickli', 'cosmo', 'ador', 'hyacinth', 'nativ', 'alpha', 'omega', 'bomb', 'ray', 'gun', 'die', 'suck', 'duel', 'link', 'join', 'basic', 'sentenc', 'meme', 'recogn', 'soni', 'among', 'account', 'report', 'contain', 'huh', 'speak', 'english', 'tayo', 'aminin', 'nyo', 'iba', 'paren', 'talaga', 'ung', 'saya', 'kapag', 'pamilya', 'kasama', 'mom', 'dye', 'hair', 'titan', 'task', 'honey', 'readyi', 'bid', 'goodby', 'huhuhuhu', 'sugar', 'dadi', 'bullshit', 'resurrect', 'wonder', 'moot', 'au', 'idc', 'fandom', 'rli', 'rewatch', 'tsukipro', 'unlik', 'tsukiuta', 'aimlesli', 'memori', 'besid', 'procela', 'gravi', 'aper', 'explan', 'wast', 'pubg', 'complain', 'great', 'convinc', 'sa', 'sobrang', 'ginawan', 'ang', 'jowa', 'alot', 'offer', 'star', 'fruit', 'cucumb', 'liquor', 'includ', 'ah', 'r', 'tv', 'everyday', 'phone', 'tho', 'stun', 'duno', 'lockdown', 'eh', 'consid', 'mil', 'hear', 'treatabl', 'disea', 'vacin', 'chicken', 'pox', 'profit', 'industri', 'grip', 'dheh', 'rey', 'text', 'worth', 'secret', 'pleaus', 'bia', 'show', 'transit', 'thursday', 'disturb', 'delet', 'world', 'speed', 'heat', 'posit', 'car', 'diver', 'drive', 'v', 'aesthet', 'awesom', 'non', 'intru', 'meu', 'signo', 'gethertheseri', 'light', 'wow', 'seri', 'becom', 'heart', 'friendship', 'niamh', 'lone', 'lie', 'dahil', 'nako', 'matutulog', 'assist', 'gwapa', 'jo', 'quarantin', 'blind', 'lurk', 'taekok', 'dislik', 'ship', 'yo', 'tribut', 'kohli', 'dhoni', 'abd', 'learn', 'hm', 'theater', 'luck', 'introduc', 'brand', 'wolf', 'trap', 'web', 'page', 'dedic', 'park', 'broke', 'br', 'indirect', 'leah', 'class', 'gogl', 'meet', 'pain', 'prove', 'stupid', 'honest', 'moron', 'block', 'thrill', 'latest', 'guest', 'blog', 'focuss', 'activ', 'profess', 'pt', 'ashley', 'note', 'inca', 'stuck', 'exerci', 'beat', 'care', 'million', 'sport', 'athlet', 'suit', 'either', 'kept', 'ahead', 'part', 'disney', 'partner', 'doin', 'anythin', 'user', 'monoflili', 'hehe', 'ifl', 'sometim', 'sweet', 'sanaol', 'everi', 'teach', 'phrase', 'blond', 'lingeri', 'boob', 'pawg', 'snowbuni', 'skype', 'thot', 'trump', 'leav', 'mess', 'fault', 'surpri', 'thought', 'search', 'interview', 'translat', 'papago', 'wasnt', 'share', 'jobless', 'crack', 'lion', 'gaelsri', 'sell', 'bonnet', 'pend', 'catch', 'honor', 'corgan', 'came', 'door', 'glanc', 'til', 'alt', 'weirdo', 'rat', 'cage', 'hot', 'ps', 'demo', 'shade', 'gameplay', 'advanc', 'technolog', 'lead', 'inov', 'crackdown', 'destruct', 'via', 'cloud', 'etc', 'obvi', 'bland', 'disappoint', 'fast', 'lt', 'repost', 'intelig', 'regret', 'abil', 'often', 'separ', 'autobot', 'ala', 'extraordinari', 'ignor', 'transform', 'newrderk', 'toysoutdor', 'toyworld', 'ufo', 'ate', 'akala', 'nung', 'una', 'kita', 'makakavib', 'muka', 'kang', 'masungit', 'hahahaha', 'thx', 'basta', 'sakanya', 'nage', 'hahaha', 'minsan', 'pupunta', 'sainyo', 'para', 'makapag', 'gala', 'naman', 'dito', 'tangk', 'ingat', 'lagi', 'weird', 'ako', 'baka', 'maexpo', 'bigla', 'haksjshaha', 'potaena', 'ba', 'wieci', 'co', 'bardziej', 'podoba', 'mi', 'czarno', 'wersja', 'wig', 'worf', 'kill', 'odo', 'obviou', 'shapeshifit', 'doctor', 'expen', 'cat', 'hat', 'spokyscarysunday', 'correct', 'similar', 'soukoku', 'dazai', 'chuya', 'understand', 'restrain', 'inner', 'devil', 'impo', 'patriot', 'attack', 'conserv', 'answer', 'along', 'request', 'bunch', 'si', 'godnight', 'confu', 'jangjun', 'munda', 'anb', 'sivam', 'equal', 'god', 'ugli', 'pengeng', 'pambili', 'anastasia', 'swt', 'tour', 'youtub', 'cold', 'outli', 'unreal', 'peep', 'folk', 'sph', 'pota', 'ampksksjk', 'omg', 'istg', 'dude', 'treat', 'injuri', 'jdkshsjsn', 'fb', 'banner', 'imag', 'readi', 'ness', 'asid', 'trust', 'starscream', 'moss', 'twep', 'throught', 'club', 'bar', 'manag', 'ride', 'blood', 'spot', 'psych', 'penc', 'forehead', 'near', 'hairlin', 'sh', 'lotr', 'yesterday', 'cant', 'rememb', 'abog', 'rata', 'kalibutan', 'ahay', 'gwapaha', 'bernkastel', 'greatest', 'enemi', 'imort', 'layout', 'march', 'viru', 'monitor', 'test', 'ahahaha', 'eat', 'worst', 'half', 'brain', 'colon', 'subjug', 'educ', 'milwauk', 'drivin', 'top', 'favorit', 'pk', 'es', 'forgiv', 'mansion', 'disgust', 'pre', 'covid', 'male', 'set', 'risk', 'coupl', 'potenti', 'rape', 'murder', 'updat', 'neociti', 'ugma', 'nang', 'uban', 'matug', 'nko', 'record', 'dawn', 'school', 'later', 'student', 'wear', 'warm', 'sweatshirt', 'rule', 'quarantinelif', 'spent', 'pick', 'breakfast', 'orr', 'cb', 'late', 'cereal', 'physic', 'stare', 'oblivion', 'invi', 'twenti', 'four', 'seven', 'em', 'waterf', 'afraid', 'uh', 'sex', 'frankli', 'sterili', 'upper', 'arm', 'forearm', 'whatev', 'livin', 'maniac', 'monster', 'truck', 'daisi', 'duke', 'bank', 'slowli', 'purcha', 'due', 'bartend', 'hmu', 'deliv', 'photoshop', 'pic', 'michel', 'obama', 'facial', 'libtard', 'incel', 'obamagateg', 'ay', 'fhi', 'wah', 'stole', 'kalang', 'vagina', 'gay', 'refer', 'explor', 'avi', 'ahahahah', 'ja', 'sabia', 'quanto', 'estou', 'stolen', 'tl', 'wifi', 'switch', 'data', 'social', 'reach', 'peak', 'pfp', 'marunong', 'sadyang', 'kumagat', 'jk', 'labyu', 'quick', 'fact', 'admin', 'nag', 'tsaka', 'nagstream', 'hahahahaha', 'nakaka', 'liber', 'superstar', 'piec', 'puzl', 'desk', 'uncertain', 'famili', 'mag', 'titiktok', 'diko', 'kaya', 'yung', 'hill', 'born', 'cosmet', 'surgeri', 'rich', 'dure', 'damn', 'grammar', 'hbu', 'putangina', 'hoy', 'tanungin', 'niyo', 'nalang', 'hahahah', 'voluntarili', 'roast', 'everybodi', 'nctzen', 'travel', 'hyukja', 'style', 'analog', 'trip', 'adventur', 'superjunior', 'organ', 'cd', 'found', 'twilight', 'soundtrack', 'akong', 'kausap', 'ici', 'tbh', 'camera', 'louder', 'otom', 'obey', 'none', 'imedi', 'cock', 'rate', 'cockrat', 'dickrat', 'cocktribut', 'showmeyourcock', 'rateyourcock', 'degradeyourdick', 'showmeyourlitlecock', 'rateyourpitifulcock', 'cumtribut', 'findom', 'honestli', 'richard', 'head', 'houston', 'area', 'book', 'prank', 'lem', 'ft', 'midway', 'sequel', 'corner', 'bakit', 'pinapahirapan', 'mahirap', 'intindihin', 'kayo', 'pass', 'doujin', 'case', 'kick', 'ksimon', 'enabl', 'reto', 'niyoko', 'screw', 'ugh', 'write', 'princess', 'bela', 'took', 'viciou', 'smeli', 'brook', 'cool', 'design', 'wk', 'arena', 'minecraft', 'chore', 'sweetheart', 'bawal', 'magagalit', 'orig', 'hahahahahahahaha', 'daren', 'pang', 'yan', 'zero', 'ion', 'blayn', 'hoe', 'dumb', 'cu', 'fought', 'idgaf', 'gtf', 'dustin', 'squez', 'fine', 'ear', 'promot', 'muhfucka', 'rant', 'human', 'shal', 'boo', 'gray', 'bleach', 'cut', 'coz', 'gavin', 'hesit', 'alright', 'luckili', 'pin', 'mesi', 'bun', 'sketch', 'materi', 'bag', 'thay', 'curiou', 'shaderom', 'comment', 'respond', 'babymoth', 'vs', 'mexican', 'rainbow', 'hairi', 'tangina', 'salamat', 'pagcomfort', 'kahit', 'gago', 'madala', 'remov', 'mark', 'sen', 'jet', 'com', 'matter', 'mirag', 'chipotl', 'corpor', 'difficult', 'store', 'albani', 'problem', 'fuckin', 'budi', 'da', 'couldnt', 'baseb', 'lawyer', 'tag', 'omf', 'pong', 'space', 'invad', 'neighbor', 'munchman', 'ti', 'program', 'wrote', 'caset', 'tape', 'teri', 'tabl', 'pacman', 'ms', 'arcad', 'ganda', 'bundesliga', 'unitedkopa', 'pov', 'st', 'qualif', 'championship', 'rank', 'codmobil', 'judg', 'mother', 'feed', 'yard', 'noh', 'netflix', 'suffer', 'race', 'climb', 'onto', 'author', 'conductor', 'fire', 'motion', 'high', 'mw', 'runescap', 'stfu', 'funniest', 'erad', 'war', 'hunger', 'starv', 'eventu', 'tbt', 'extrovert', 'tend', 'express', 'given', 'remind', 'tomorrow', 'zoom', 'montag', 'clair', 'dmed', 'subway', 'omfi', 'starbuck', 'quiz', 'funnier', 'wag', 'maniwala', 'jan', 'nan', 'kasi', 'dit', 'smothi', 'health', 'nutrit', 'vegan', 'plantba', 'apl', 'almondbut', 'spinach', 'berymachin', 'healthi', 'tasti', 'req', 'curiouscat', 'chrono', 'stone', 'shoot', 'bastard', 'neighbour', 'agr', 'creat', 'milk', 'plane', 'fli', 'bori', 'nail', 'vanish', 'finger', 'anyway', 'track', 'sexual', 'exploit', 'ensur', 'nocturn', 'awak', 'trace', 'chase', 'disappear', 'role', 'laki', 'ulo', 'instagramstori', 'option', 'cose', 'insta', 'letmeknow', 'doubl', 'edg', 'sword', 'ar', 'shed', 'pound', 'leaner', 'bigger', 'bang', 'bother', 'swing', 'roundabout', 'supo', 'open', 'stop', 'brag', 'nearli', 'mutual', 'target', 'fucn', 'lazi', 'fodi', 'recomend', 'cook', 'load', 'cookbook', 'diana', 'henri', 'claudia', 'roden', 'tim', 'anderson', 'moro', 'shelf', 'khi', 'longest', 'ref', 'nerv', 'strugl', 'friendli', 'staff', 'true', 'melt', 'extrem', 'forc', 'comic', 'evil', 'absolut', 'bye', 'mental', 'defen', 'striker', 'privileg', 'dream', 'hang', 'univ', 'mock', 'reviv', 'porn', 'anxieti', 'fyi', 'creep', 'concern', 'normal', 'grown', 'flirt', 'emoji', 'smoke', 'ut', 'tray', 'discord', 'het', 'smith', 'kjfhksd', 'awhil', 'qaurantin', 'ive', 'figur', 'energi', 'redesign', 'fursona', 'mj', 'lskdm', 'jaebeom', 'almost', 'viral', 'yep', 'rare', 'dopelg', 'nger', 'two', 'knick', 'grey', 'uni', 'hop', 'hilari', 'predict', 'propaganda', 'speech', 'fear', 'monger', 'gov', 'handout', 'rest', 'simpl', 'hyung', 'nonetheless', 'sexi', 'bw', 'fulfil', 'subscrib', 'xxx', 'onlyfan', 'bulg', 'lgbt', 'lgbtq', 'began', 'insol', 'fascin', 'crazi', 'insid', 'meanwhil', 'amaz', 'yah', 'shot', 'dead', 'bodi', 'threw', 'rock', 'caught', 'dodg', 'shrug', 'hahahshshahsha', 'awit', 'fw', 'hshsh', 'content', 'tiktokvsyoutub', 'tool', 'famou', 'controversi', 'river', 'flow', 'bitter', 'amiragainstcyberbuli', 'support', 'prop', 'grandma', 'king', 'halfway', 'progress', 'knew', 'wife', 'marisia', 'shem', 'thebachelorsa', 'anal', 'usa', 'leopard', 'gta', 'guid', 'deal', 'grow', 'unflop', 'vore', 'chri', 'crap', 'drain', 'fed', 'takeov', 'unit', 'arsen', 'chelsea', 'nufc', 'import', 'ocupi', 'din', 'key', 'homophob', 'standard', 'troll', 'clock', 'marti', 'mula', 'ofici', 'retwet', 'cover', 'super', 'ama', 'osu', 'posibl', 'tbe', 'crib', 'gravedig', 'roxa', 'forgotten', 'hspen', 'anthem', 'battlefront', 'fallen', 'order', 'heard', 'ougli', 'drifti', 'joycon', 'ansakit', 'daliri', 'kakaselpon', 'pa', 'natigil', 'hmp', 'conflict', 'kelsey', 'writerlywipchat', 'dean', 'sumn', 'zlatan', 'gig', 'nevil', 'ksi', 'hewo', 'eli', 'sil', 'young', 'niec', 'andrew', 'asum', 'lock', 'pub', 'scran', 'raith', 'rover', 'ngl', 'ov', 'shake', 'anytim', 'apakaswet', 'busog', 'kung', 'ganon', 'nak', 'creativ', 'media', 'tat', 'springfield', 'paper', 'mario', 'sticker', 'didnt', 'download', 'tie', 'hood', 'datboyquin', 'fucker', 'columbu', 'georgia', 'screncap', 'drunk', 'core', 'lai', 'ceo', 'clearli', 'direct', 'ml', 'shine', 'ada', 'bisa', 'bant', 'zombi', 'apocalyp', 'tryn', 'heartbroken', 'list', 'emoticon', 'relationship', 'boredomboredomboredom', 'road', 'recent', 'toy', 'nake', 'panti', 'thong', 'sfbay', 'femdom', 'cockselfi', 'sanfrancisco', 'publicnud', 'bublebut', 'past', 'kcse', 'lo', 'behold', 'compulsori', 'taken', 'hold', 'ayoko', 'zomjakol', 'scientist', 'politician', 'parliament', 'noi', 'death', 'blame', 'disrespect', 'countri', 'base', 'pop', 'florida', 'acknowledg', 'mute', 'background', 'sim', 'flight', 'stair', 'shi', 'habit', 'shift', 'saikai', 'tad', 'acnh', 'crave', 'harvest', 'moon', 'fantast', 'tenag', 'articl', 'parent', 'zone', 'teen', 'emperor', 'guitar', 'dare', 'chest', 'spice', 'log', 'worker', 'tast', 'vanilla', 'thursdaytreat', 'click', 'hornier', 'femal', 'idol', 'delight', 'adult', 'sudden', 'claremont', 'loop', 'obe', 'slower', 'sea', 'sailor', 'albatross', 'cor', 'loss', 'rhyme', 'crime', 'bubl', 'buster', 'vbgc', 'activitykit', 'activitiesforkid', 'inthistogeth', 'whateveritak', 'ryujin', 'shoulder', 'wanab', 'toilet', 'wound', 'shitless', 'restless', 'cushti', 'atez', 'treasur', 'film', 'nowher', 'stan', 'connect', 'apink', 'svt', 'ikaw', 'sino', 'lakad', 'wala', 'nga', 'anon', 'hahahahah', 'char', 'handwritten', 'moist', 'whoever', 'adopt', 'wherev', 'provid', 'okey', 'nakapag', 'pasaya', 'bahay', 'bat', 'shinar', 'pato', 'dame', 'tuloy', 'halungkat', 'fizz', 'beg', 'thoroughli', 'deni', 'servic', 'kathal', 'religi', 'satir', 'bs', 'cubic', 'litr', 'lick', 'envelop', 'spongingofthetaxpay', 'relea', 'band', 'camp', 'site', 'welcom', 'browser', 'histori', 'tear', 'bouta', 'ohmi', 'ohm', 'ohmenpa', 'replyan', 'gosh', 'zizl', 'ken', 'sb', 'perfectcountdown', 'alab', 'ifb', 'huge', 'blink', 'kpop', 'neglect', 'mate', 'pack', 'spain', 'hazm', 'pregunta', 'monkey', 'joseph', 'america', 'resourc', 'complet', 'flatten', 'curv', 'american', 'govern', 'rather', 'unemploy', 'ichachat', 'nila', 'choic', 'splash', 'graphic', 'doni', 'sucker', 'upset', 'plot', 'adob', 'goodbi', 'darl', 'practic', 'earth', 'advic', 'carer', 'bend', 'advoc', 'electr', 'fenc', 'outsid', 'ghilysuit', 'dictat', 'murphi', 'land', 'incr', 'slow', 'assign', 'highlight', 'bullet', 'career', 'effort', 'boyfriend', 'neworldwednesday', 'giveaway', 'sister', 'husband', 'smokeh', 'reject', 'daniel', 'kangdaniel', 'sfamemorieschaleng', 'album', 'colag', 'fake', 'simp', 'remain', 'alwat', 'bt', 'current', 'price', 'irc', 'earlier', 'trial', 'mana', 'closer', 'weekend', 'kuat', 'smgt', 'nk', 'bakar', 'lemamg', 'mostli', 'sakit', 'telinga', 'berani', 'ckp', 'skrg', 'btg', 'kene', 'dah', 'jam', 'tgk', 'buluh', 'pro', 'tip', 'pandem', 'tae', 'kinikilig', 'parin', 'boset', 'ashtan', 'stumbl', 'pokemonxd', 'skl', 'vacay', 'mood', 'mah', 'op', 'hahahahahaha', 'oy', 'grabe', 'paki', 'alagan', 'ulit', 'tiga', 'jovan', 'coki', 'kitchen', 'opino', 'con', 'nimo', 'daw', 'mga', 'kaibigan', 'kala', 'nakakalaba', 'nong', 'nb', 'ntv', 'influenc', 'ngayon', 'ayorn', 'kana', 'sakin', 'irereto', 'josephin', 'langford', 'cream', 'tak', 'berkenan', 'lepak', 'mamak', 'kalau', 'pun', 'pekena', 'roti', 'canai', 'je', 'moko', 'idamay', 'monogam', 'oposit', 'celeb', 'father', 'heroic', 'aq', 'yessssss', 'curi', 'veget', 'rice', 'fckin', 'copi', 'spoil', 'finest', 'amu', 'q', 'bet', 'jinja', 'wuf', 'playin', 'eyeland', 'ton', 'cheer', 'purpo', 'playlist', 'glek', 'oscar', 'kilinqev', 'loath', 'valid', 'longer', 'seyou', 'dami', 'siguro', 'nagchachat', 'dati', 'pyramid', 'scheme', 'humor', 'channel', 'inovatebhamwfh', 'highli', 'suggest', 'icon', 'mtv', 'remodel', 'otherwi', 'twice', 'serotonin', 'cocktail', 'secondhand', 'describ', 'acid', 'midl', 'age', 'byebi', 'spotifi', 'toward', 'rim', 'po', 'marathon', 'snacksss', 'fancam', 'larg', 'smile', 'pout', 'elbow', 'plant', 'thigh', 'knuckl', 'puf', 'promptli', 'leader', 'gulp', 'sip', 'exhal', 'buzz', 'spartan', 'packag', 'within', 'atheist', 'comun', 'becam', 'evangel', 'rebellion', 'frustrat', 'control', 'repress', 'urg', 'denounc', 'religion', 'joe', 'buden', 'irelev', 'funi', 'dave', 'chapel', 'jah', 'charot', 'slut', 'synth', 'stoke', 'laptop', 'distanc', 'solv', 'isol', 'emot', 'buddhist', 'monk', 'museum', 'intellect', 'tantrum', 'peasant', 'wishlist', 'hefti', 'chile', 'effect', 'racist', 'bordom', 'bambina', 'guarant', 'perfectli', 'repr', 'younger', 'enid', 'rebecca', 'chronic', 'outcast', 'relat', 'grew', 'era', 'cooler', 'exact', 'nephew', 'nasum', 'od', 'sig', 'basa', 'ug', 'tan', 'aw', 'huhu', 'darn', 'squad', 'medic', 'cr', 'shekdkmd', 'mix', 'depend', 'typic', 'strongli', 'volunt', 'sixth', 'sixti', 'lockdownuk', 'mirror', 'tax', 'spitl', 'extern', 'huri', 'pregnant', 'stomach', 'wore', 'bagi', 'ss', 'injust', 'vid', 'joke', 'fork', 'loml', 'indian', 'armi', 'shitfac', 'economi', 'surviv', 'china', 'donat', 'dope', 'artist', 'pull', 'virtual', 'instagraml', 'hiphop', 'boredintheh', 'hiphopmu', 'buffalo', 'multi', 'hyphen', 'stargirl', 'mail', 'poetri', 'caution', 'apliancehack', 'podcast', 'sane', 'blake', 'snel', 'step', 'dh', 'yadi', 'hof', 'audio', 'crepcheckmonday', 'wisconsin', 'overnight', 'lubbock', 'korean', 'routin', 'workout', 'chairman', 'queue', 'kfc', 'fella', 'cautiou', 'ju', 'swimmer', 'ocean', 'boat', 'jacket', 'older', 'alitl', 'cc', 'semingli', 'saxophon', 'loudli', 'bonjour', 'buongiorno', 'leftov', 'mission', 'ganto', 'pala', 'usto', 'lunurin', 'sarili', 'nigga', 'quarentinelif', 'toler', 'exe', 'reconect', 'justifi', 'properli', 'youth', 'focu', 'cave', 'counselor', 'unmanag', 'alexboi', 'rambl', 'attend', 'funer', 'pontefract', 'april', 'crew', 'map', 'calcul', 'lunch', 'expo', 'deadli', 'infect', 'deathtothestupid', 'deathtothewimurd', 'confirm', 'avail', 'system', 'tokusatsu', 'trpg', 'pupi', 'stage', 'benji', 'jorg', 'groupchat', 'lesbian', 'bisexu', 'titi', 'cum', 'bigtit', 'bigcock', 'cumshot', 'overloadporn', 'asian', 'hugecock', 'creampi', 'fitn', 'chaturb', 'pornhub', 'brazer', 'milf', 'russian', 'arab', 'rogan', 'shame', 'unsur', 'dr', 'epidemiologist', 'infecti', 'specialist', 'virologist', 'hala', 'ahaha', 'product', 'rifleman', 'mann', 'unfair', 'papa', 'wit', 'chz', 'hangoht', 'pathet', 'drag', 'mighti', 'rv', 'wacki', 'sub', 'onward', 'recreat', 'exampl', 'eyeb', 'imagin', 'ao', 'fic', 'frenchi', 'complic', 'legitim', 'inform', 'jesu', 'christ', 'frep', 'anounc', 'layoff', 'quar', 'marshal', 'ross', 'buhay', 'dre', 'enard', 'fnafnaf', 'fnafsl', 'fivenightsatfredi', 'fivenightsatfredysisterloc', 'sisterloc', 'animatron', 'wbu', 'ruin', 'pearl', 'careless', 'cs', 'studio', 'descent', 'copyright', 'damag', 'esteem', 'marin', 'sarap', 'kayang', 'traidor', 'taong', 'binabalik', 'anong', 'ginawa', 'insult', 'gather', 'testicl', 'swim', 'mant', 'nichola', 'kardara', 'explain', 'digit', 'detox', 'unplug', 'importantli', 'glowkid', 'digitaldetox', 'xx', 'bae', 'imi', 'rd', 'chronicl', 'vol', 'hamilton', 'boredintheromwhereithapen', 'tit', 'trend', 'isiliy', 'kar', 'presenc', 'password', 'uge', 'gt', 'rumor', 'nicki', 'mariag', 'filth', 'mitchi', 'hundr', 'bill', 'sent', 'corel', 'gtfo', 'mariah', 'bud', 'ano', 'jokingli', 'huga', 'plato', 'plate', 'dwarf', 'irat', 'interv', 'bi', 'breathtak', 'six', 'piano', 'insecur', 'pledg', 'bilieilish', 'sixfetund', 'prep', 'stroll', 'mall', 'evak', 'street', 'misplac', 'someday', 'punish', 'gotten', 'haikyu', 'weight', 'slam', 'embrac', 'toxic', 'power', 'batl', 'goin', 'vividli', 'apart', 'upstair', 'fnaf', 'petrifi', 'gna', 'pm', 'mm', 'upload', 'stroke', 'sniff', 'qs', 'libhantinti', 'garner', 'ultim', 'underfreakingwhelm', 'jung', 'yu', 'discoveryoflov', 'spam', 'uwu', 'sexc', 'nim', 'toto', 'rerepli', 'nakikipag', 'usap', 'newsf', 'makikinig', 'sabih', 'chinat', 'scrap', 'visit', 'dodocod', 'dumbass', 'swel', 'folowbackteam', 'teamfolowback', 'iphon', 'xboxtim', 'modernwarfar', 'warzon', 'vegi', 'sandwich', 'dufin', 'crusti', 'soft', 'combo', 'mayo', 'salt', 'pepper', 'thinli', 'slice', 'white', 'onion', 'avocado', 'tomato', 'che', 'fanci', 'peney', 'mannequin', 'lonelyi', 'smthn', 'planner', 'organi', 'vibe', 'prequest', 'journorequest', 'blogerequest', 'pickup', 'silver', 'insan', 'shook', 'disaprov', 'dragon', 'observ', 'hahahahaeverytimenanakikitakitangnaghypervwntilateomalungkotaposdikoalamgagawinkokasidikoalamkungmakakatulongbakokayahinahayankoyungibanaicomfortkakasikenatcomfortyouimshykasiwah', 'outak', 'archeologist', 'discov', 'dozen', 'hidden', 'roman', 'backyard', 'proper', 'fuckini', 'folobackforfoloback', 'folklorethursday', 'foloback', 'blacklivesmat', 'blackaf', 'survivor', 'thursdaymorn', 'chicago', 'socialdistanc', 'wack', 'quara', 'onetrehil', 'millionth', 'almond', 'butter', 'jar', 'nosugar', 'thingshavechang', 'notif', 'phapha', 'relax', 'nwa', 'metsi', 'amosc', 'somewh', 'vacat', 'trey', 'burn', 'caligraphi', 'lifetim', 'forev', 'bagaimana', 'cara', 'seseorang', 'menjaga', 'kesetianya', 'hanya', 'kepada', 'profil', 'wtf', 'sentai', 'blue', 'swat', 'um', 'favor', 'fish', 'uy', 'strang', 'stunt', 'shush', 'jokeman', 'yourselv', 'monasteri', 'shut', 'premium', 'alota', 'second', 'flop', 'fajita', 'reliev', 'shoutout', 'codi', 'bangaloreday', 'fahadhfazil', 'nazriyanazim', 'ishatalwar', 'upholst', 'accent', 'chair', 'artwork', 'tune', 'soundcloud', 'gamer', 'screen', 'invest', 'usakhala', 'ngokuba', 'kule', 'ibe', 'ikulethela', 'savanavirtualcomedybar', 'manj', 'ngo', 'ku', 'uyeyisa', 'yaz', 'brant', 'kagwapa', 'oc', 'quot', 'tsuki', 'motha', 'viola', 'turd', 'sucubu', 'maya', 'donavan', 'selingcont', 'onlyfansnewbi', 'onlyfansbab', 'dirti', 'xox', 'happier', 'cumtributesw', 'cumtributechaleng', 'cumtributem', 'godamit', 'samuel', 'baki', 'kuch', 'nahi', 'karti', 'par', 'nend', 'bhi', 'aa', 'walahi', 'dey', 'holyi', 'asssss', 'nintendo', 'rl', 'prioriti', 'mobil', 'homeward', 'bound', 'journey', 'momma', 'todlebug', 'shihtzu', 'shihtzufun', 'shihtzulif', 'girlpow', 'rude', 'expand', 'hire', 'children', 'stave', 'indefinit', 'suspend', 'dyson', 'engin', 'scienc', 'estat', 'cedar', 'shingl', 'roof', 'apli', 'coat', 'rid', 'mildew', 'mold', 'fwend', 'wanabcom', 'hangout', 'pedro', 'aechant', 'saket', 'pwede', 'pampalipa', 'ora', 'sksk', 'wonderland', 'celebr', 'fetish', 'ik', 'uve', 'reveal', 'mafia', 'unfathom', 'mangyayar', 'tapo', 'lovkdown', 'sya', 'yeast', 'groceri', 'attempt', 'bread', 'recip', 'stand', 'mixer', 'whether', 'overwhelm', 'plain', 'litsen', 'creation', 'outer', 'yellow', 'filter', 'centuri', 'literatur', 'popular', 'woah', 'summer', 'yup', 'nini', 'babysit', 'pleas', 'whose', 'cashmast', 'bigdick', 'cashap', 'hung', 'master', 'servem', 'finsub', 'fetmast', 'alpham', 'straightmast', 'muscl', 'alphafet', 'malefet', 'kendrick', 'olamar', 'doc', 'caption', 'quarent', 'venmo', 'rai', 'alc', 'holic', 'max', 'screnshot', 'shid', 'howev', 'fro', 'locat', 'frick', 'exist', 'skit', 'ryan', 'profound', 'collect', 'resolv', 'sabotag', 'chiskop', 'pokemon', 'premi', 'across', 'descript', 'minimalist', 'reader', 'wyd', 'noic', 'borrow', 'greek', 'mytholog', 'bibl', 'zeu', 'detail', 'horu', 'wasup', 'asvab', 'mindswel', 'prepar', 'overthink', 'midnight', 'timoth', 'constantli', 'obx', 'mbf', 'cleaner', 'libra', 'victon', 'exid', 'auld', 'faith', 'snake', 'elop', 'stretch', 'holi', 'smth', 'rali', 'alan', 'shearer', 'tinchi', 'stryder', 'tipto', 'behind', 'masterpiec', 'brat', 'agenda', 'pede', 'kausapin', 'hndi', 'umiwa', 'conot', 'sensit', 'sf', 'sketchi', 'aight', 'shower', 'ol', 'unfulfil', 'receiv', 'ikr', 'child', 'len', 'lucki', 'monotoni', 'sjsj', 'toe', 'humour', 'fuengirola', 'circl', 'kiana', 'chapter', 'gourmet', 'nowaday', 'unfolow', 'rag', 'bum', 'misfir', 'paid', 'actor', 'koch', 'roger', 'anna', 'golf', 'dom', 'spaghetti', 'ramen', 'elvi', 'costelo', 'postcard', 'la', 'galeri', 'gift', 'edi', 'izzard', 'dvd', 'section', 'tower', 'charli', 'broker', 'slightli', 'loch', 'felic', 'kendal', 'monument', 'metro', 'newcastl', 'plump', 'workshop', 'bookmark', 'diy', 'catcher', 'warli', 'anyeong', 'owl', 'tap', 'cloth', 'temporarili', 'uk', 'suicid', 'singl', 'dexter', 'dapat', 'unya', 'mammalian', 'biolog', 'legal', 'hug', 'fellow', 'flavor', 'tanong', 'pakistani', 'dlj', 'iss', 'acha', 'hum', 'apk', 'hai', 'kon', 'trice', 'inoc', 'peacock', 'smize', 'sportswrit', 'lebron', 'mane', 'punch', 'orphan', 'comedi', 'pubown', 'competitor', 'chart', 'seen', 'bedlam', 'tortur', 'oneself', 'intimaci', 'undercov', 'specif', 'ijudg', 'buzf', 'ordinari', 'roster', 'rocket', 'compar', 'spur', 'mass', 'presid', 'spore', 'sg', 'nca', 'certainli', 'hay', 'kadin', 'hahahahahahahahahahah', 'nipl', 'ouch', 'usta', 'musta', 'doubt', 'kskdkfk', 'anw', 'major', 'romanc', 'garbag', 'h', 'daughter', 'arrest', 'kolo', 'sportsmen', 'quarentin', 'selfisol', 'pillow', 'pilowtalk', 'gofi', 'fabul', 'hoop', 'retir', 'austin', 'nsd', 'labad', 'kda', 'somehow', 'ale', 'domino', 'pizza', 'driver', 'rang', 'discount', 'hale', 'itali', 'balanc', 'expla', 'daili', 'basi', 'pretend', 'fck', 'gotem', 'lmk', 'audit', 'housew', 'intern', 'cking', 'sext', 'cycl', 'dy', 'alert', 'poster', 'stayalert', 'uklockdown', 'jason', 'sidung', 'bare', 'remenb', 'manipul', 'vocaloid', 'server', 'va', 'hurt', 'cho', 'nakachat', 'lazada', 'kaso', 'tinatamad', 'magrepli', 'shave', 'backward', 'webinar', 'rhythm', 'remot', 'mr', 'jp', 'nelson', 'nicotra', 'snave', 'pattern', 'maintain', 'lifestyl', 'learnatfc', 'sold', 'housekeep', 'mvsale', 'owner', 'revenu', 'karaok', 'trait', 'fee', 'checkout', 'magazin', 'intersect', 'unidentifi', 'cudl', 'throwbackthursday', 'meantim', 'deserv', 'astral', 'realm', 'bombard', 'ingam', 'inkl', 'useless', 'therefor', 'hyve', 'chine', 'asap', 'lowkey', 'addict', 'buli', 'behalf', 'buni', 'justic', 'octob', 'termin', 'gizmo', 'superior', 'ichat', 'mainform', 'mano', 'maguba', 'nya', 'maghilom', 'magpadayon', 'japun', 'ginago', 'btche', 'koy', 'niya', 'ra', 'jud', 'maong', 'nirepli', 'nistop', 'tawon', 'sound', 'nece', 'calendar', 'luca', 'rabbit', 'voraci', 'genr', 'dale', 'hardli', 'lvg', 'rafl', 'prize', 'furi', 'furyart', 'ilustr', 'coleg', 'vera', 'tora', 'countless', 'wna', 'ganyan', 'bobo', 'animalcro', 'nintendoswitch', 'stripper', 'imfuni', 'acyual', 'checkin', 'email', 'jd', 'dmd', 'bitaw', 'dira', 'respon', 'ling', 'count', 'washingupliquid', 'cowork', 'pig', 'marri', 'bisag', 'unsa', 'pako', 'sakong', 'fair', 'bond', 'steynhuisen', 'predat', 'cup', 'invent', 'haul', 'gitmo', 'ambigu', 'weak', 'inefect', 'prilaga', 'folowm', 'fashion', 'picoftheday', 'swag', 'portrait', 'iphonesia', 'twitch', 'xdcmadmax', 'cod', 'codmw', 'gamingsetup', 'pcgame', 'gamergirl', 'battlefield', 'whysoseri', 'justm', 'nofucksaregiven', 'sunshin', 'madeanefortforonc', 'hairisgetinglong', 'jordan', 'cigar', 'clerk', 'miami', 'puerto', 'rican', 'cuban', 'thatsalin', 'satisfact', 'significantli', 'harder', 'bucko', 'period', 'unlimit', 'lame', 'debat', 'outerbank', 'pride', 'simba', 'monsterv', 'monsterenergi', 'spartacu', 'seashel', 'hor', 'cutest', 'prettiest', 'sometihung', 'dealer', 'anti', 'anagram', 'wank', 'letter', 'short', 'eastern', 'urgent', 'public', 'reopen', 'dem', 'hoax', 'hysteria', 'revok', 'unconstitut', 'tmrw', 'hr', 'poke', 'bear', 'hairstyl', 'patulan', 'nato', 'fckn', 'caramel', 'headtop', 'tingssss', 'gorgeou', 'fat', 'ratio', 'ginupitan', 'fail', 'tinanong', 'magandang', 'rin', 'eva', 'apio', 'lite', 'hq', 'kiz', 'doyeon', 'pesa', 'kpl', 'approach', 'startim', 'reli', 'pool', 'sponsor', 'properti', 'erigom', 'forget', 'j', 'ngin', 'trauma', 'heal', 'solo', 'gigl', 'textbook', 'pet', 'asusi', 'egg', 'lah', 'clear', 'saw', 'uhm', 'slepi', 'ty', 'asgjdhdjf', 'tom', 'gem', 'fendi', 'notebook', 'pen', 'disert', 'ho', 'gaya', 'sunkar', 'logon', 'zahar', 'ke', 'alawa', 'ink', 'chesecak', 'gona', 'brah', 'utter', 'drivel', 'unblock', 'slipper', 'holiday', 'chill', 'wksjsjsnkak', 'neg', 'nitpick', 'jame', 'lift', 'spirit', 'inlov', 'ran', 'fabric', 'sew', 'capabl', 'string', 'cheerlead', 'colidg', 'dinner', 'rupaul', 'subsequ', 'limelight', 'allow', 'depth', 'sentiment', 'saniti', 'legend', 'hei', 'ei', 'wonhi', 'dross', 'zaxbi', 'mitsuri', 'greet', 'sight', 'truli', 'throughout', 'iowkey', 'whack', 'nightmar', 'reliv', 'realiti', 'unspoken', 'grate', 'peek', 'debutnovel', 'lockdownread', 'ownvoic', 'corona', 'capricorn', 'center', 'facebok', 'hometown', 'hatr', 'yesss', 'twin', 'colour', 'render', 'snapm', 'admeonsnapchat', 'newfriend', 'lokingforfriend', 'onlinefriend', 'folofolo', 'boredathom', 'jon', 'doesnt', 'hw', 'mong', 'coup', 'kumakain', 'nakakairita', 'kapal', 'ayun', 'mainit', 'pina', 'naguluhan', 'jigsaw', 'rotterdam', 'june', 'lash', 'bust', 'urban', 'meyer', 'tebow', 'cam', 'perci', 'pounci', 'riley', 'cooper', 'hernandez', 'jenkin', 'spike', 'haden', 'regi', 'rainey', 'demp', 'wright', 'edibl', 'telonym', 'afaik', 'stageringli', 'masiv', 'outlet', 'escap', 'dog', 'anxiou', 'hyperact', 'brighter', 'averag', 'wilingli', 'statist', 'affect', 'confid', 'ayha', 'magpa', 'ramdam', 'sksksk', 'limtanay', 'orb', 'magig', 'nakasama', 'compet', 'sana', 'mage', 'ct', 'sy', 'nakakatuwang', 'mabo', 'chika', 'namang', 'bitoy', 'imisy', 'kepsaf', 'godbl', 'ayan', 'kakausapin', 'yamot', 'present', 'air', 'arent', 'individu', 'ident', 'kasik', 'nigaz', 'ganito', 'huehu', 'pant', 'boycut', 'staten', 'karen', 'coburn', 'julian', 'garden', 'mutuo', 'bilbil', 'chan', 'baa', 'hahahuhuhuskskskz', 'awe', 'mwa', 'notch', 'junko', 'enoshima', 'cosplay', 'danganronpa', 'cha', 'dollar', 'urvashi', 'uravashi', 'rahman', 'suresh', 'pete', 'wooden', 'poshmark', 'closet', 'limit', 'code', 'beachbound', 'liquid', 'werido', 'papalinlang', 'heya', 'basketb', 'ulet', 'ecq', 'sched', 'agad', 'nypd', 'scumbag', 'makalat', 'ulaga', 'ghorl', 'garlic', 'sauc', 'penn', 'boom', 'queri', 'hunt', 'kumbodaro', 'yarebesa', 'iyi', 'tikazvikanzura', 'eternitypreview', 'session', 'xfd', 'knowledg', 'hashtag', 'cybersecur', 'muchat', 'kinsay', 'dra', 'crowd', 'stayhom', 'staysafenigeria', 'failur', 'trumpdeathtolk', 'trumpisjealousofobama', 'trumpfailur', 'ego', 'lolol', 'mainli', 'grosser', 'unbeliev', 'cytl', 'bilionair', 'poverti', 'soak', 'mop', 'wasteland', 'event', 'ea', 'havent', 'bio', 'inspo', 'josh', 'mxray', 'schoolwork', 'untouch', 'nation', 'safer', 'ourselv', 'coleslaw', 'grand', 'whirlwind', 'substanc', 'brilliant', 'visual', 'overdramati', 'director', 'thalapathi', 'restaur', 'bollock', 'stpete', 'tampabay', 'bleak', 'lindiw', 'languag', 'lack', 'term', 'anywh', 'earthi', 'stark', 'syntax', 'fukalen', 'maki', 'refrain', 'irev', 'pilot', 'bump', 'glow', 'groan', 'sore', 'huf', 'frank', 'mel', 'gimicki', 'small', 'bird', 'crank', 'internet', 'honour', 'tradit', 'sincer', 'firework', 'esenti', 'ileg', 'nightli', 'rucku', 'odd', 'whenev', 'kerala', 'communist', 'bjp', 'chankam', 'cowdung', 'dung', 'urin', 'cow', 'omd', 'ginger', 'regina', 'spoke', 'giant', 'ad']\n"
     ]
    },
    {
     "name": "stderr",
     "output_type": "stream",
     "text": [
      "C:\\Users\\Sssimon Lappy.LAPTOP-BPUEH71L\\Anaconda3\\lib\\site-packages\\ipykernel_launcher.py:17: DeprecationWarning: Call to deprecated `__getitem__` (Method will be removed in 4.0.0, use self.wv.__getitem__() instead).\n"
     ]
    },
    {
     "ename": "KeyError",
     "evalue": "\"word 'disapoint' not in vocabulary\"",
     "output_type": "error",
     "traceback": [
      "\u001b[1;31m---------------------------------------------------------------------------\u001b[0m",
      "\u001b[1;31mKeyError\u001b[0m                                  Traceback (most recent call last)",
      "\u001b[1;32m<ipython-input-15-d6fd15722be0>\u001b[0m in \u001b[0;36m<module>\u001b[1;34m\u001b[0m\n\u001b[0;32m     15\u001b[0m \u001b[1;33m\u001b[0m\u001b[0m\n\u001b[0;32m     16\u001b[0m \u001b[1;31m#----ENTER THE WORD HERE------\u001b[0m\u001b[1;33m\u001b[0m\u001b[1;33m\u001b[0m\u001b[1;33m\u001b[0m\u001b[0m\n\u001b[1;32m---> 17\u001b[1;33m \u001b[0mprint\u001b[0m\u001b[1;33m(\u001b[0m\u001b[0mmodel\u001b[0m\u001b[1;33m[\u001b[0m\u001b[1;34m'disapoint'\u001b[0m\u001b[1;33m]\u001b[0m\u001b[1;33m)\u001b[0m\u001b[1;33m\u001b[0m\u001b[1;33m\u001b[0m\u001b[0m\n\u001b[0m\u001b[0;32m     18\u001b[0m \u001b[1;31m# save model\u001b[0m\u001b[1;33m\u001b[0m\u001b[1;33m\u001b[0m\u001b[1;33m\u001b[0m\u001b[0m\n\u001b[0;32m     19\u001b[0m \u001b[0mmodel\u001b[0m\u001b[1;33m.\u001b[0m\u001b[0msave\u001b[0m\u001b[1;33m(\u001b[0m\u001b[1;34m'model.bin'\u001b[0m\u001b[1;33m)\u001b[0m\u001b[1;33m\u001b[0m\u001b[1;33m\u001b[0m\u001b[0m\n",
      "\u001b[1;32m~\\Anaconda3\\lib\\site-packages\\gensim\\utils.py\u001b[0m in \u001b[0;36mnew_func1\u001b[1;34m(*args, **kwargs)\u001b[0m\n\u001b[0;32m   1445\u001b[0m                     \u001b[0mstacklevel\u001b[0m\u001b[1;33m=\u001b[0m\u001b[1;36m2\u001b[0m\u001b[1;33m\u001b[0m\u001b[1;33m\u001b[0m\u001b[0m\n\u001b[0;32m   1446\u001b[0m                 )\n\u001b[1;32m-> 1447\u001b[1;33m                 \u001b[1;32mreturn\u001b[0m \u001b[0mfunc\u001b[0m\u001b[1;33m(\u001b[0m\u001b[1;33m*\u001b[0m\u001b[0margs\u001b[0m\u001b[1;33m,\u001b[0m \u001b[1;33m**\u001b[0m\u001b[0mkwargs\u001b[0m\u001b[1;33m)\u001b[0m\u001b[1;33m\u001b[0m\u001b[1;33m\u001b[0m\u001b[0m\n\u001b[0m\u001b[0;32m   1448\u001b[0m \u001b[1;33m\u001b[0m\u001b[0m\n\u001b[0;32m   1449\u001b[0m             \u001b[1;32mreturn\u001b[0m \u001b[0mnew_func1\u001b[0m\u001b[1;33m\u001b[0m\u001b[1;33m\u001b[0m\u001b[0m\n",
      "\u001b[1;32m~\\Anaconda3\\lib\\site-packages\\gensim\\models\\word2vec.py\u001b[0m in \u001b[0;36m__getitem__\u001b[1;34m(self, words)\u001b[0m\n\u001b[0;32m   1119\u001b[0m \u001b[1;33m\u001b[0m\u001b[0m\n\u001b[0;32m   1120\u001b[0m         \"\"\"\n\u001b[1;32m-> 1121\u001b[1;33m         \u001b[1;32mreturn\u001b[0m \u001b[0mself\u001b[0m\u001b[1;33m.\u001b[0m\u001b[0mwv\u001b[0m\u001b[1;33m.\u001b[0m\u001b[0m__getitem__\u001b[0m\u001b[1;33m(\u001b[0m\u001b[0mwords\u001b[0m\u001b[1;33m)\u001b[0m\u001b[1;33m\u001b[0m\u001b[1;33m\u001b[0m\u001b[0m\n\u001b[0m\u001b[0;32m   1122\u001b[0m \u001b[1;33m\u001b[0m\u001b[0m\n\u001b[0;32m   1123\u001b[0m     \u001b[1;33m@\u001b[0m\u001b[0mdeprecated\u001b[0m\u001b[1;33m(\u001b[0m\u001b[1;34m\"Method will be removed in 4.0.0, use self.wv.__contains__() instead\"\u001b[0m\u001b[1;33m)\u001b[0m\u001b[1;33m\u001b[0m\u001b[1;33m\u001b[0m\u001b[0m\n",
      "\u001b[1;32m~\\Anaconda3\\lib\\site-packages\\gensim\\models\\keyedvectors.py\u001b[0m in \u001b[0;36m__getitem__\u001b[1;34m(self, entities)\u001b[0m\n\u001b[0;32m    351\u001b[0m         \u001b[1;32mif\u001b[0m \u001b[0misinstance\u001b[0m\u001b[1;33m(\u001b[0m\u001b[0mentities\u001b[0m\u001b[1;33m,\u001b[0m \u001b[0mstring_types\u001b[0m\u001b[1;33m)\u001b[0m\u001b[1;33m:\u001b[0m\u001b[1;33m\u001b[0m\u001b[1;33m\u001b[0m\u001b[0m\n\u001b[0;32m    352\u001b[0m             \u001b[1;31m# allow calls like trained_model['office'], as a shorthand for trained_model[['office']]\u001b[0m\u001b[1;33m\u001b[0m\u001b[1;33m\u001b[0m\u001b[1;33m\u001b[0m\u001b[0m\n\u001b[1;32m--> 353\u001b[1;33m             \u001b[1;32mreturn\u001b[0m \u001b[0mself\u001b[0m\u001b[1;33m.\u001b[0m\u001b[0mget_vector\u001b[0m\u001b[1;33m(\u001b[0m\u001b[0mentities\u001b[0m\u001b[1;33m)\u001b[0m\u001b[1;33m\u001b[0m\u001b[1;33m\u001b[0m\u001b[0m\n\u001b[0m\u001b[0;32m    354\u001b[0m \u001b[1;33m\u001b[0m\u001b[0m\n\u001b[0;32m    355\u001b[0m         \u001b[1;32mreturn\u001b[0m \u001b[0mvstack\u001b[0m\u001b[1;33m(\u001b[0m\u001b[1;33m[\u001b[0m\u001b[0mself\u001b[0m\u001b[1;33m.\u001b[0m\u001b[0mget_vector\u001b[0m\u001b[1;33m(\u001b[0m\u001b[0mentity\u001b[0m\u001b[1;33m)\u001b[0m \u001b[1;32mfor\u001b[0m \u001b[0mentity\u001b[0m \u001b[1;32min\u001b[0m \u001b[0mentities\u001b[0m\u001b[1;33m]\u001b[0m\u001b[1;33m)\u001b[0m\u001b[1;33m\u001b[0m\u001b[1;33m\u001b[0m\u001b[0m\n",
      "\u001b[1;32m~\\Anaconda3\\lib\\site-packages\\gensim\\models\\keyedvectors.py\u001b[0m in \u001b[0;36mget_vector\u001b[1;34m(self, word)\u001b[0m\n\u001b[0;32m    469\u001b[0m \u001b[1;33m\u001b[0m\u001b[0m\n\u001b[0;32m    470\u001b[0m     \u001b[1;32mdef\u001b[0m \u001b[0mget_vector\u001b[0m\u001b[1;33m(\u001b[0m\u001b[0mself\u001b[0m\u001b[1;33m,\u001b[0m \u001b[0mword\u001b[0m\u001b[1;33m)\u001b[0m\u001b[1;33m:\u001b[0m\u001b[1;33m\u001b[0m\u001b[1;33m\u001b[0m\u001b[0m\n\u001b[1;32m--> 471\u001b[1;33m         \u001b[1;32mreturn\u001b[0m \u001b[0mself\u001b[0m\u001b[1;33m.\u001b[0m\u001b[0mword_vec\u001b[0m\u001b[1;33m(\u001b[0m\u001b[0mword\u001b[0m\u001b[1;33m)\u001b[0m\u001b[1;33m\u001b[0m\u001b[1;33m\u001b[0m\u001b[0m\n\u001b[0m\u001b[0;32m    472\u001b[0m \u001b[1;33m\u001b[0m\u001b[0m\n\u001b[0;32m    473\u001b[0m     \u001b[1;32mdef\u001b[0m \u001b[0mwords_closer_than\u001b[0m\u001b[1;33m(\u001b[0m\u001b[0mself\u001b[0m\u001b[1;33m,\u001b[0m \u001b[0mw1\u001b[0m\u001b[1;33m,\u001b[0m \u001b[0mw2\u001b[0m\u001b[1;33m)\u001b[0m\u001b[1;33m:\u001b[0m\u001b[1;33m\u001b[0m\u001b[1;33m\u001b[0m\u001b[0m\n",
      "\u001b[1;32m~\\Anaconda3\\lib\\site-packages\\gensim\\models\\keyedvectors.py\u001b[0m in \u001b[0;36mword_vec\u001b[1;34m(self, word, use_norm)\u001b[0m\n\u001b[0;32m    466\u001b[0m             \u001b[1;32mreturn\u001b[0m \u001b[0mresult\u001b[0m\u001b[1;33m\u001b[0m\u001b[1;33m\u001b[0m\u001b[0m\n\u001b[0;32m    467\u001b[0m         \u001b[1;32melse\u001b[0m\u001b[1;33m:\u001b[0m\u001b[1;33m\u001b[0m\u001b[1;33m\u001b[0m\u001b[0m\n\u001b[1;32m--> 468\u001b[1;33m             \u001b[1;32mraise\u001b[0m \u001b[0mKeyError\u001b[0m\u001b[1;33m(\u001b[0m\u001b[1;34m\"word '%s' not in vocabulary\"\u001b[0m \u001b[1;33m%\u001b[0m \u001b[0mword\u001b[0m\u001b[1;33m)\u001b[0m\u001b[1;33m\u001b[0m\u001b[1;33m\u001b[0m\u001b[0m\n\u001b[0m\u001b[0;32m    469\u001b[0m \u001b[1;33m\u001b[0m\u001b[0m\n\u001b[0;32m    470\u001b[0m     \u001b[1;32mdef\u001b[0m \u001b[0mget_vector\u001b[0m\u001b[1;33m(\u001b[0m\u001b[0mself\u001b[0m\u001b[1;33m,\u001b[0m \u001b[0mword\u001b[0m\u001b[1;33m)\u001b[0m\u001b[1;33m:\u001b[0m\u001b[1;33m\u001b[0m\u001b[1;33m\u001b[0m\u001b[0m\n",
      "\u001b[1;31mKeyError\u001b[0m: \"word 'disapoint' not in vocabulary\""
     ]
    }
   ],
   "source": [
    "#-----word embedding---\n",
    "#--using word embedding, to tell what words are most similar to some specified words.--\n",
    "\n",
    "from gensim.models import Word2Vec\n",
    "# define training data\n",
    "sentences = [term.split() for term in (df_tweets['clean text']) ]\n",
    "# train model\n",
    "model = Word2Vec(sentences, min_count=1)\n",
    "# summarize the loaded model\n",
    "print(model)\n",
    "# summarize vocabulary\n",
    "words = list(model.wv.vocab)\n",
    "print(words)\n",
    "# access vector for one word\n",
    "\n",
    "#----ENTER THE WORD HERE------\n",
    "print(model['disapoint'])\n",
    "# save model\n",
    "model.save('model.bin')\n",
    "# load model\n",
    "new_model = Word2Vec.load('model.bin')\n",
    "print(new_model)"
   ]
  },
  {
   "cell_type": "markdown",
   "metadata": {},
   "source": [
    "# LDA Modeling"
   ]
  },
  {
   "cell_type": "code",
   "execution_count": 17,
   "metadata": {},
   "outputs": [
    {
     "data": {
      "image/png": "[encoded data removed]",
      "text/plain": [
       "<Figure size 1080x667.491 with 1 Axes>"
      ]
     },
     "metadata": {
      "needs_background": "light"
     },
     "output_type": "display_data"
    }
   ],
   "source": [
    "#-----LDA MODELLING\n",
    "# Load the library with the CountVectorizer method\n",
    "from sklearn.feature_extraction.text import CountVectorizer\n",
    "import numpy as np\n",
    "import matplotlib.pyplot as plt\n",
    "import seaborn as sns\n",
    "sns.set_style('whitegrid')\n",
    "%matplotlib inline\n",
    "# Helper function\n",
    "def plot_10_most_common_words(count_data, count_vectorizer):\n",
    "    import matplotlib.pyplot as plt\n",
    "    words = count_vectorizer.get_feature_names()\n",
    "    total_counts = np.zeros(len(words))\n",
    "    for t in count_data:\n",
    "        total_counts+=t.toarray()[0]\n",
    "    \n",
    "    count_dict = (zip(words, total_counts))\n",
    "    count_dict = sorted(count_dict, key=lambda x:x[1], reverse=True)[0:10]\n",
    "    words = [w[0] for w in count_dict]\n",
    "    counts = [w[1] for w in count_dict]\n",
    "    x_pos = np.arange(len(words)) \n",
    "    \n",
    "    plt.figure(2, figsize=(15, 15/1.6180))\n",
    "    plt.subplot(title='10 most common words')\n",
    "    sns.set_context(\"notebook\", font_scale=1.25, rc={\"lines.linewidth\": 2.5})\n",
    "    sns.barplot(x_pos, counts, palette='husl')\n",
    "    plt.xticks(x_pos, words, rotation=90) \n",
    "    plt.xlabel('words')\n",
    "    plt.ylabel('counts')\n",
    "    plt.show()\n",
    "# Initialise the count vectorizer with the English stop words\n",
    "count_vectorizer = CountVectorizer(stop_words='english')\n",
    "# Fit and transform the processed titles\n",
    "count_data = count_vectorizer.fit_transform(df_tweets['clean text'])\n",
    "# Visualise the 10 most common words\n",
    "plot_10_most_common_words(count_data, count_vectorizer)"
   ]
  },
  {
   "cell_type": "markdown",
   "metadata": {},
   "source": [
    "# Top 5 topics"
   ]
  },
  {
   "cell_type": "code",
   "execution_count": 18,
   "metadata": {},
   "outputs": [
    {
     "name": "stdout",
     "output_type": "stream",
     "text": [
      "Topics found via LDA:\n",
      "\n",
      "Topic #0:\n",
      "na ko thi lang ako want ka like sa love\n",
      "\n",
      "Topic #1:\n",
      "got thi like wa na day watch new think want\n",
      "\n",
      "Topic #2:\n",
      "im reali na becau fight hungri peopl hell make veri\n",
      "\n",
      "Topic #3:\n",
      "im thi like hou watch quarantin peopl plea shit whi\n",
      "\n",
      "Topic #4:\n",
      "wa work thi make fuck time like use need day\n"
     ]
    }
   ],
   "source": [
    "import warnings\n",
    "warnings.simplefilter(\"ignore\", DeprecationWarning)\n",
    "# Load the LDA model from sk-learn\n",
    "from sklearn.decomposition import LatentDirichletAllocation as LDA\n",
    " \n",
    "# Helper function\n",
    "def print_topics(model, count_vectorizer, n_top_words):\n",
    "    words = count_vectorizer.get_feature_names()\n",
    "    for topic_idx, topic in enumerate(model.components_):\n",
    "        print(\"\\nTopic #%d:\" % topic_idx)\n",
    "        print(\" \".join([words[i]\n",
    "                        for i in topic.argsort()[:-n_top_words - 1:-1]]))\n",
    "        \n",
    "# Tweak the two parameters below\n",
    "number_topics = 5\n",
    "number_words = 10\n",
    "# Create and fit the LDA model\n",
    "lda = LDA(n_components=number_topics, n_jobs=-1)\n",
    "lda.fit(count_data)\n",
    "# Print the topics found by the LDA model\n",
    "print(\"Topics found via LDA:\")\n",
    "print_topics(lda, count_vectorizer, number_words)"
   ]
  },
  {
   "cell_type": "code",
   "execution_count": 19,
   "metadata": {},
   "outputs": [
    {
     "name": "stdout",
     "output_type": "stream",
     "text": [
      "Wall time: 15.1 s\n"
     ]
    }
   ],
   "source": [
    "%%time\n",
    "\n",
    "from pyLDAvis import sklearn as sklearn_lda\n",
    "import pickle \n",
    "import pyLDAvis\n",
    "import os\n",
    "LDAvis_data_filepath = os.path.join('./ldavis_prepared_'+str(number_topics))\n",
    "# # this is a bit time consuming - make the if statement True\n",
    "# # if you want to execute visualization prep yourself\n",
    "if 1 == 1:\n",
    "    LDAvis_prepared = sklearn_lda.prepare(lda, count_data, count_vectorizer)\n",
    "\n"
   ]
  },
  {
   "cell_type": "code",
   "execution_count": 20,
   "metadata": {},
   "outputs": [],
   "source": [
    "with open(LDAvis_data_filepath, 'wb') as f:\n",
    "        pickle.dump(LDAvis_prepared, f)  "
   ]
  },
  {
   "cell_type": "code",
   "execution_count": 20,
   "metadata": {},
   "outputs": [],
   "source": [
    "'''with open(LDAvis_data_filepath, 'w') as f:\n",
    "        pickle.dump(LDAvis_prepared, f)   \n",
    "# load the pre-prepared pyLDAvis data from disk\n",
    "with open(LDAvis_data_filepath) as f:\n",
    "    LDAvis_prepared = pickle.load(f)'''\n",
    "pyLDAvis.save_html(LDAvis_prepared, './ldavis_prepared_'+ str(number_topics) +'.html')"
   ]
  },
  {
   "cell_type": "code",
   "execution_count": null,
   "metadata": {},
   "outputs": [],
   "source": []
  }
 ],
 "metadata": {
  "kernelspec": {
   "display_name": "Python 3",
   "language": "python",
   "name": "python3"
  },
  "language_info": {
   "codemirror_mode": {
    "name": "ipython",
    "version": 3
   },
   "file_extension": ".py",
   "mimetype": "text/x-python",
   "name": "python",
   "nbconvert_exporter": "python",
   "pygments_lexer": "ipython3",
   "version": "3.7.6"
  }
 },
 "nbformat": 4,
 "nbformat_minor": 2
}
